{
 "cells": [
  {
   "cell_type": "code",
   "execution_count": null,
   "id": "7e738c7f",
   "metadata": {},
   "outputs": [],
   "source": [
    "from sympy import symbols, Eq, solve\n",
    "import matplotlib.pyplot as plt\n"
   ]
  },
  {
   "cell_type": "code",
   "execution_count": null,
   "id": "6382981d",
   "metadata": {},
   "outputs": [],
   "source": [
    "\n",
    "# Define variables\n",
    "A, B = symbols('A B', nonnegative=True)\n",
    "\n",
    "# Objective function: Maximize 40A + 30B\n",
    "# Constraints:\n",
    "# 1) Machine time: 2A + 1B <= 100\n",
    "# 2) Raw material: 3A + 4B <= 240\n",
    "\n",
    "# Step 1: Solve the system for intersection points of constraints\n",
    "eq1 = Eq(2*A + B, 100)\n",
    "eq2 = Eq(3*A + 4*B, 240)\n",
    "intersection = solve((eq1, eq2), (A, B))\n",
    "\n",
    "# Step 2: Points to check -> intersection of constraints, and axis intercepts\n",
    "# Intercepts\n",
    "# For eq1 with B=0 => 2A=100 => A=50\n",
    "# For eq1 with A=0 => B=100\n",
    "# For eq2 with B=0 => 3A=240 => A=80\n",
    "# For eq2 with A=0 => 4B=240 => B=60\n",
    "\n",
    "points = [\n",
    "    (0, 0),\n",
    "    (50, 0),\n",
    "    (0, 60),\n",
    "    (0, 100),\n",
    "    (80, 0),\n",
    "    (intersection[A], intersection[B])\n",
    "]\n",
    "\n",
    "# Step 3: Filter feasible points (satisfy all constraints)\n",
    "feasible_points = []\n",
    "for a, b in points:\n",
    "    if (2*a + b <= 100) and (3*a + 4*b <= 240) and a >= 0 and b >= 0:\n",
    "        feasible_points.append((a, b))\n",
    "\n",
    "# Step 4: Evaluate profit at feasible points\n",
    "profits = [(a, b, 40*a + 30*b) for a, b in feasible_points]"
   ]
  },
  {
   "cell_type": "code",
   "execution_count": null,
   "id": "d86fd462",
   "metadata": {},
   "outputs": [],
   "source": [
    "import pandas as pd\n",
    "df = pd.DataFrame(profits, columns=['A', 'B', 'Profit'])\n",
    "\n",
    "print(f'{} {} {}')"
   ]
  }
 ],
 "metadata": {
  "kernelspec": {
   "display_name": "venv",
   "language": "python",
   "name": "python3"
  },
  "language_info": {
   "codemirror_mode": {
    "name": "ipython",
    "version": 3
   },
   "file_extension": ".py",
   "mimetype": "text/x-python",
   "name": "python",
   "nbconvert_exporter": "python",
   "pygments_lexer": "ipython3",
   "version": "3.12.1"
  }
 },
 "nbformat": 4,
 "nbformat_minor": 5
}
